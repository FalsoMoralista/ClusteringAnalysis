{
 "cells": [
  {
   "cell_type": "code",
   "execution_count": 5,
   "id": "a6fa991c",
   "metadata": {},
   "outputs": [],
   "source": [
    "%matplotlib inline\n",
    "import matplotlib.pyplot as plt\n",
    "import numpy as np\n",
    "import os\n",
    "#os.environ['KMP_DUPLICATE_LIB_OK']='True'\n",
    "import pandas as pd\n",
    "#import tensorflow_addons as tfa\n",
    "#print(tfa.__version__)\n",
    "import pickle\n",
    "#import random\n",
    "#from sklearn.metrics import f1_score\n",
    "#from sklearn.metrics import accuracy_score\n",
    "#from sklearn.metrics import classification_report as cr\n",
    "#import seaborn as sns"
   ]
  },
  {
   "cell_type": "code",
   "execution_count": 6,
   "id": "bac9521d",
   "metadata": {},
   "outputs": [
    {
     "name": "stdout",
     "output_type": "stream",
     "text": [
      "1.0\n",
      "0.0\n"
     ]
    },
    {
     "data": {
      "text/html": [
       "<div>\n",
       "<style scoped>\n",
       "    .dataframe tbody tr th:only-of-type {\n",
       "        vertical-align: middle;\n",
       "    }\n",
       "\n",
       "    .dataframe tbody tr th {\n",
       "        vertical-align: top;\n",
       "    }\n",
       "\n",
       "    .dataframe thead th {\n",
       "        text-align: right;\n",
       "    }\n",
       "</style>\n",
       "<table border=\"1\" class=\"dataframe\">\n",
       "  <thead>\n",
       "    <tr style=\"text-align: right;\">\n",
       "      <th></th>\n",
       "      <th>id</th>\n",
       "      <th>avg</th>\n",
       "      <th>std</th>\n",
       "    </tr>\n",
       "  </thead>\n",
       "  <tbody>\n",
       "    <tr>\n",
       "      <th>0</th>\n",
       "      <td>10003327</td>\n",
       "      <td>0.694973</td>\n",
       "      <td>0.458259</td>\n",
       "    </tr>\n",
       "    <tr>\n",
       "      <th>1</th>\n",
       "      <td>10008016</td>\n",
       "      <td>0.620000</td>\n",
       "      <td>0.487832</td>\n",
       "    </tr>\n",
       "    <tr>\n",
       "      <th>2</th>\n",
       "      <td>10009770</td>\n",
       "      <td>0.710000</td>\n",
       "      <td>0.456048</td>\n",
       "    </tr>\n",
       "    <tr>\n",
       "      <th>3</th>\n",
       "      <td>10010617</td>\n",
       "      <td>1.000000</td>\n",
       "      <td>0.000000</td>\n",
       "    </tr>\n",
       "    <tr>\n",
       "      <th>4</th>\n",
       "      <td>10012036</td>\n",
       "      <td>0.590018</td>\n",
       "      <td>0.494289</td>\n",
       "    </tr>\n",
       "    <tr>\n",
       "      <th>...</th>\n",
       "      <td>...</td>\n",
       "      <td>...</td>\n",
       "      <td>...</td>\n",
       "    </tr>\n",
       "    <tr>\n",
       "      <th>68648</th>\n",
       "      <td>9970254</td>\n",
       "      <td>1.000000</td>\n",
       "      <td>0.000000</td>\n",
       "    </tr>\n",
       "    <tr>\n",
       "      <th>68649</th>\n",
       "      <td>9970373</td>\n",
       "      <td>1.000000</td>\n",
       "      <td>0.000000</td>\n",
       "    </tr>\n",
       "    <tr>\n",
       "      <th>68650</th>\n",
       "      <td>9973032</td>\n",
       "      <td>1.000000</td>\n",
       "      <td>0.000000</td>\n",
       "    </tr>\n",
       "    <tr>\n",
       "      <th>68651</th>\n",
       "      <td>9990896</td>\n",
       "      <td>0.810000</td>\n",
       "      <td>0.394277</td>\n",
       "    </tr>\n",
       "    <tr>\n",
       "      <th>68652</th>\n",
       "      <td>9998215</td>\n",
       "      <td>1.000000</td>\n",
       "      <td>0.000000</td>\n",
       "    </tr>\n",
       "  </tbody>\n",
       "</table>\n",
       "<p>68646 rows × 3 columns</p>\n",
       "</div>"
      ],
      "text/plain": [
       "             id       avg       std\n",
       "0      10003327  0.694973  0.458259\n",
       "1      10008016  0.620000  0.487832\n",
       "2      10009770  0.710000  0.456048\n",
       "3      10010617  1.000000  0.000000\n",
       "4      10012036  0.590018  0.494289\n",
       "...         ...       ...       ...\n",
       "68648   9970254  1.000000  0.000000\n",
       "68649   9970373  1.000000  0.000000\n",
       "68650   9973032  1.000000  0.000000\n",
       "68651   9990896  0.810000  0.394277\n",
       "68652   9998215  1.000000  0.000000\n",
       "\n",
       "[68646 rows x 3 columns]"
      ]
     },
     "execution_count": 6,
     "metadata": {},
     "output_type": "execute_result"
    }
   ],
   "source": [
    "inetHopkinsD256 =  pd.DataFrame()\n",
    "for i in range(1,3):\n",
    "    path = '../resources/PC2022/d=128/hopkins_PC2022_128d_{}.csv'\n",
    "    dataFrame = pd.read_csv(path.format(i))\n",
    "    inetHopkinsD256 = pd.concat([inetHopkinsD256, dataFrame], ignore_index=True)\n",
    "    #= inetHopkinsD2.append(dataFrame, ignore_index=True)\n",
    "         \n",
    "averages = inetHopkinsD256.loc[:, 'avg']\n",
    "std = inetHopkinsD256.loc[:, 'std']\n",
    "ids = inetHopkinsD256.loc[:, 'id']\n",
    "\n",
    "m = averages[np.argmax(averages)]\n",
    "print(m)\n",
    "mmin = averages[np.argmin(averages)]\n",
    "print(mmin)\n",
    "  \n",
    "inetHopkinsD256 = inetHopkinsD256.dropna()\n",
    "inetHopkinsD256"
   ]
  },
  {
   "cell_type": "code",
   "execution_count": 7,
   "id": "475572fc",
   "metadata": {},
   "outputs": [
    {
     "data": {
      "text/html": [
       "<div>\n",
       "<style scoped>\n",
       "    .dataframe tbody tr th:only-of-type {\n",
       "        vertical-align: middle;\n",
       "    }\n",
       "\n",
       "    .dataframe tbody tr th {\n",
       "        vertical-align: top;\n",
       "    }\n",
       "\n",
       "    .dataframe thead th {\n",
       "        text-align: right;\n",
       "    }\n",
       "</style>\n",
       "<table border=\"1\" class=\"dataframe\">\n",
       "  <thead>\n",
       "    <tr style=\"text-align: right;\">\n",
       "      <th></th>\n",
       "      <th>id</th>\n",
       "      <th>avg</th>\n",
       "      <th>std</th>\n",
       "    </tr>\n",
       "  </thead>\n",
       "  <tbody>\n",
       "    <tr>\n",
       "      <th>2</th>\n",
       "      <td>10009770</td>\n",
       "      <td>0.71</td>\n",
       "      <td>0.456048</td>\n",
       "    </tr>\n",
       "    <tr>\n",
       "      <th>3</th>\n",
       "      <td>10010617</td>\n",
       "      <td>1.00</td>\n",
       "      <td>0.000000</td>\n",
       "    </tr>\n",
       "    <tr>\n",
       "      <th>6</th>\n",
       "      <td>10027741</td>\n",
       "      <td>1.00</td>\n",
       "      <td>0.000000</td>\n",
       "    </tr>\n",
       "    <tr>\n",
       "      <th>7</th>\n",
       "      <td>10037617</td>\n",
       "      <td>1.00</td>\n",
       "      <td>0.000000</td>\n",
       "    </tr>\n",
       "    <tr>\n",
       "      <th>9</th>\n",
       "      <td>10040445</td>\n",
       "      <td>1.00</td>\n",
       "      <td>0.000000</td>\n",
       "    </tr>\n",
       "    <tr>\n",
       "      <th>...</th>\n",
       "      <td>...</td>\n",
       "      <td>...</td>\n",
       "      <td>...</td>\n",
       "    </tr>\n",
       "    <tr>\n",
       "      <th>68648</th>\n",
       "      <td>9970254</td>\n",
       "      <td>1.00</td>\n",
       "      <td>0.000000</td>\n",
       "    </tr>\n",
       "    <tr>\n",
       "      <th>68649</th>\n",
       "      <td>9970373</td>\n",
       "      <td>1.00</td>\n",
       "      <td>0.000000</td>\n",
       "    </tr>\n",
       "    <tr>\n",
       "      <th>68650</th>\n",
       "      <td>9973032</td>\n",
       "      <td>1.00</td>\n",
       "      <td>0.000000</td>\n",
       "    </tr>\n",
       "    <tr>\n",
       "      <th>68651</th>\n",
       "      <td>9990896</td>\n",
       "      <td>0.81</td>\n",
       "      <td>0.394277</td>\n",
       "    </tr>\n",
       "    <tr>\n",
       "      <th>68652</th>\n",
       "      <td>9998215</td>\n",
       "      <td>1.00</td>\n",
       "      <td>0.000000</td>\n",
       "    </tr>\n",
       "  </tbody>\n",
       "</table>\n",
       "<p>58213 rows × 3 columns</p>\n",
       "</div>"
      ],
      "text/plain": [
       "             id   avg       std\n",
       "2      10009770  0.71  0.456048\n",
       "3      10010617  1.00  0.000000\n",
       "6      10027741  1.00  0.000000\n",
       "7      10037617  1.00  0.000000\n",
       "9      10040445  1.00  0.000000\n",
       "...         ...   ...       ...\n",
       "68648   9970254  1.00  0.000000\n",
       "68649   9970373  1.00  0.000000\n",
       "68650   9973032  1.00  0.000000\n",
       "68651   9990896  0.81  0.394277\n",
       "68652   9998215  1.00  0.000000\n",
       "\n",
       "[58213 rows x 3 columns]"
      ]
     },
     "execution_count": 7,
     "metadata": {},
     "output_type": "execute_result"
    }
   ],
   "source": [
    "filteredHopkinsD256 = inetHopkinsD256[inetHopkinsD256['avg'] >= 0.7] \n",
    "filteredHopkinsD256"
   ]
  },
  {
   "cell_type": "code",
   "execution_count": 5,
   "id": "66c1a496",
   "metadata": {},
   "outputs": [
    {
     "data": {
      "text/plain": [
       "1.0"
      ]
     },
     "execution_count": 5,
     "metadata": {},
     "output_type": "execute_result"
    }
   ],
   "source": [
    "m-mmin"
   ]
  },
  {
   "cell_type": "code",
   "execution_count": 35,
   "id": "b70914de",
   "metadata": {},
   "outputs": [
    {
     "data": {
      "text/plain": [
       "0.045221507320855066"
      ]
     },
     "execution_count": 35,
     "metadata": {},
     "output_type": "execute_result"
    }
   ],
   "source": [
    "lenght"
   ]
  },
  {
   "cell_type": "code",
   "execution_count": 8,
   "id": "ba5232d7",
   "metadata": {},
   "outputs": [
    {
     "data": {
      "text/plain": [
       "Text(0.5, 1.0, 'Frequência de Classes x AVG Hopkins Statistics (100 runs) with D=256 PC2022 Embeddings')"
      ]
     },
     "execution_count": 8,
     "metadata": {},
     "output_type": "execute_result"
    },
    {
     "data": {
      "image/png": "[encoded data removed]",
      "text/plain": [
       "<Figure size 1600x600 with 1 Axes>"
      ]
     },
     "metadata": {},
     "output_type": "display_data"
    }
   ],
   "source": [
    "N_points = len(averages)\n",
    "n_bins = 20\n",
    "lenght = (m - mmin)/n_bins\n",
    "fig, axs = plt.subplots(figsize=(16,6))\n",
    "\n",
    "#plt.figure(figsize=(10,6))\n",
    "#0.592653975517827\n",
    "# We can set the number of bins with the *bins* keyword argument.\n",
    "plt.xticks(np.arange(0, 1.25, 0.05))\n",
    "axs.hist(averages, bins=n_bins)\n",
    "\n",
    "plt.title('Frequência de Classes x AVG Hopkins Statistics (100 runs) with D=256 PC2022 Embeddings')\n",
    "#xlim(left=1)\n",
    "\n",
    "#axs[1].hist(dist2, bins=n_bins)"
   ]
  },
  {
   "cell_type": "code",
   "execution_count": 44,
   "id": "2e96d21c",
   "metadata": {},
   "outputs": [
    {
     "name": "stdout",
     "output_type": "stream",
     "text": [
      "1.0\n",
      "0.407346024482173\n"
     ]
    },
    {
     "data": {
      "text/html": [
       "<div>\n",
       "<style scoped>\n",
       "    .dataframe tbody tr th:only-of-type {\n",
       "        vertical-align: middle;\n",
       "    }\n",
       "\n",
       "    .dataframe tbody tr th {\n",
       "        vertical-align: top;\n",
       "    }\n",
       "\n",
       "    .dataframe thead th {\n",
       "        text-align: right;\n",
       "    }\n",
       "</style>\n",
       "<table border=\"1\" class=\"dataframe\">\n",
       "  <thead>\n",
       "    <tr style=\"text-align: right;\">\n",
       "      <th></th>\n",
       "      <th>id</th>\n",
       "      <th>avg</th>\n",
       "      <th>std</th>\n",
       "    </tr>\n",
       "  </thead>\n",
       "  <tbody>\n",
       "    <tr>\n",
       "      <th>0</th>\n",
       "      <td>10003327</td>\n",
       "      <td>0.557608</td>\n",
       "      <td>0.013237</td>\n",
       "    </tr>\n",
       "    <tr>\n",
       "      <th>1</th>\n",
       "      <td>10008016</td>\n",
       "      <td>0.564253</td>\n",
       "      <td>0.017061</td>\n",
       "    </tr>\n",
       "    <tr>\n",
       "      <th>2</th>\n",
       "      <td>10009770</td>\n",
       "      <td>0.458361</td>\n",
       "      <td>0.026654</td>\n",
       "    </tr>\n",
       "    <tr>\n",
       "      <th>3</th>\n",
       "      <td>10010617</td>\n",
       "      <td>0.665219</td>\n",
       "      <td>0.009505</td>\n",
       "    </tr>\n",
       "    <tr>\n",
       "      <th>4</th>\n",
       "      <td>10012036</td>\n",
       "      <td>0.658380</td>\n",
       "      <td>0.007868</td>\n",
       "    </tr>\n",
       "    <tr>\n",
       "      <th>...</th>\n",
       "      <td>...</td>\n",
       "      <td>...</td>\n",
       "      <td>...</td>\n",
       "    </tr>\n",
       "    <tr>\n",
       "      <th>68648</th>\n",
       "      <td>9970254</td>\n",
       "      <td>0.647665</td>\n",
       "      <td>0.006910</td>\n",
       "    </tr>\n",
       "    <tr>\n",
       "      <th>68649</th>\n",
       "      <td>9970373</td>\n",
       "      <td>0.607744</td>\n",
       "      <td>0.007638</td>\n",
       "    </tr>\n",
       "    <tr>\n",
       "      <th>68650</th>\n",
       "      <td>9973032</td>\n",
       "      <td>0.656478</td>\n",
       "      <td>0.016610</td>\n",
       "    </tr>\n",
       "    <tr>\n",
       "      <th>68651</th>\n",
       "      <td>9990896</td>\n",
       "      <td>0.530740</td>\n",
       "      <td>0.046558</td>\n",
       "    </tr>\n",
       "    <tr>\n",
       "      <th>68652</th>\n",
       "      <td>9998215</td>\n",
       "      <td>0.648650</td>\n",
       "      <td>0.009063</td>\n",
       "    </tr>\n",
       "  </tbody>\n",
       "</table>\n",
       "<p>68653 rows × 3 columns</p>\n",
       "</div>"
      ],
      "text/plain": [
       "             id       avg       std\n",
       "0      10003327  0.557608  0.013237\n",
       "1      10008016  0.564253  0.017061\n",
       "2      10009770  0.458361  0.026654\n",
       "3      10010617  0.665219  0.009505\n",
       "4      10012036  0.658380  0.007868\n",
       "...         ...       ...       ...\n",
       "68648   9970254  0.647665  0.006910\n",
       "68649   9970373  0.607744  0.007638\n",
       "68650   9973032  0.656478  0.016610\n",
       "68651   9990896  0.530740  0.046558\n",
       "68652   9998215  0.648650  0.009063\n",
       "\n",
       "[68653 rows x 3 columns]"
      ]
     },
     "execution_count": 44,
     "metadata": {},
     "output_type": "execute_result"
    }
   ],
   "source": [
    "inetHopkinsD1 = pd.read_csv('../resources/ImageNet/hopkins_statistics_INET_features_d=1.csv')\n",
    "\n",
    "averages = inetHopkinsD1.loc[:, 'avg']\n",
    "std = inetHopkinsD1.loc[:, 'std']\n",
    "ids = inetHopkinsD1.loc[:, 'id']\n",
    "\n",
    "m = averages[np.argmax(averages)]\n",
    "print(m)\n",
    "mmin = averages[np.argmin(averages)]\n",
    "print(mmin)\n",
    "\n",
    "inetHopkinsD1"
   ]
  },
  {
   "cell_type": "code",
   "execution_count": null,
   "id": "3da3119e",
   "metadata": {},
   "outputs": [],
   "source": [
    "# to-do: review: \n",
    "# Frequency vs density histograms!!"
   ]
  },
  {
   "cell_type": "code",
   "execution_count": 9,
   "id": "ff42ea17",
   "metadata": {},
   "outputs": [],
   "source": [
    "with open('../resources/class_dictionary.pkl', 'rb') as f:\n",
    "    data = pickle.load(f)\n"
   ]
  },
  {
   "cell_type": "code",
   "execution_count": 10,
   "id": "4895ec2f",
   "metadata": {},
   "outputs": [],
   "source": [
    "train_images = pd.read_csv('../resources/train_images.csv')\n",
    "validation_images = pd.read_csv('../resources/validation_images.csv')"
   ]
  },
  {
   "cell_type": "code",
   "execution_count": 11,
   "id": "e2f69859",
   "metadata": {},
   "outputs": [],
   "source": [
    "train_image_list = train_images['image_paths']\n",
    "validation_image_list = validation_images['image_paths']"
   ]
  },
  {
   "cell_type": "code",
   "execution_count": 12,
   "id": "c65b92e8",
   "metadata": {},
   "outputs": [],
   "source": [
    "images_by_class = {}\n",
    "for c in train_image_list:\n",
    "  split = c.split('/')\n",
    "  c_id = split[0]\n",
    "  img = split[1]\n",
    "  try:\n",
    "    images_by_class[c_id]\n",
    "  except Exception:\n",
    "    images_by_class[c_id] = []\n",
    "  finally:\n",
    "    images_by_class[c_id].append(img)\n",
    "    \n",
    "for c in validation_image_list:\n",
    "  split = c.split('/')\n",
    "  c_id = split[0]\n",
    "  img = split[1]\n",
    "  try:\n",
    "    images_by_class[c_id]\n",
    "  except Exception:\n",
    "    images_by_class[c_id] = []\n",
    "  finally:\n",
    "    images_by_class[c_id].append(img)\n",
    "  "
   ]
  },
  {
   "cell_type": "code",
   "execution_count": 13,
   "id": "19535545",
   "metadata": {},
   "outputs": [
    {
     "data": {
      "text/plain": [
       "2885052"
      ]
     },
     "execution_count": 13,
     "metadata": {},
     "output_type": "execute_result"
    }
   ],
   "source": [
    "# Sanity Check\n",
    "dataset_classlist = list(data.keys())\n",
    "l = 0\n",
    "for i in dataset_classlist:\n",
    "  l += len(images_by_class[str(i)])\n",
    "l"
   ]
  },
  {
   "cell_type": "code",
   "execution_count": 20,
   "id": "4e46b966",
   "metadata": {},
   "outputs": [
    {
     "ename": "NameError",
     "evalue": "name 'filteredHopkinsD256' is not defined",
     "output_type": "error",
     "traceback": [
      "\u001b[0;31m---------------------------------------------------------------------------\u001b[0m",
      "\u001b[0;31mNameError\u001b[0m                                 Traceback (most recent call last)",
      "Cell \u001b[0;32mIn[20], line 1\u001b[0m\n\u001b[0;32m----> 1\u001b[0m filteredHopkinsD256\n",
      "\u001b[0;31mNameError\u001b[0m: name 'filteredHopkinsD256' is not defined"
     ]
    }
   ],
   "source": [
    "filteredHopkinsD256"
   ]
  },
  {
   "cell_type": "code",
   "execution_count": 14,
   "id": "e8dc97c8",
   "metadata": {},
   "outputs": [],
   "source": [
    "indexes = filteredHopkinsD256['id']\n",
    "img_quantities = []\n",
    "for index in indexes:\n",
    "  img_quantities.append(len(images_by_class[str(index)]))\n",
    "hop = filteredHopkinsD256['avg']\n"
   ]
  },
  {
   "cell_type": "code",
   "execution_count": 11,
   "id": "b656e850",
   "metadata": {},
   "outputs": [
    {
     "ename": "NameError",
     "evalue": "name 'filteredHopkinsD256_dataframe' is not defined",
     "output_type": "error",
     "traceback": [
      "\u001b[0;31m---------------------------------------------------------------------------\u001b[0m",
      "\u001b[0;31mNameError\u001b[0m                                 Traceback (most recent call last)",
      "Cell \u001b[0;32mIn[11], line 1\u001b[0m\n\u001b[0;32m----> 1\u001b[0m filteredHopkinsD256_dataframe[\u001b[38;5;124m'\u001b[39m\u001b[38;5;124mimg_quantities\u001b[39m\u001b[38;5;124m'\u001b[39m]\n",
      "\u001b[0;31mNameError\u001b[0m: name 'filteredHopkinsD256_dataframe' is not defined"
     ]
    }
   ],
   "source": [
    "filteredHopkinsD256_dataframe['img_quantities']"
   ]
  },
  {
   "cell_type": "code",
   "execution_count": 15,
   "id": "b6602c86",
   "metadata": {},
   "outputs": [
    {
     "data": {
      "text/html": [
       "<div>\n",
       "<style scoped>\n",
       "    .dataframe tbody tr th:only-of-type {\n",
       "        vertical-align: middle;\n",
       "    }\n",
       "\n",
       "    .dataframe tbody tr th {\n",
       "        vertical-align: top;\n",
       "    }\n",
       "\n",
       "    .dataframe thead th {\n",
       "        text-align: right;\n",
       "    }\n",
       "</style>\n",
       "<table border=\"1\" class=\"dataframe\">\n",
       "  <thead>\n",
       "    <tr style=\"text-align: right;\">\n",
       "      <th></th>\n",
       "      <th>ids</th>\n",
       "      <th>img_quantities</th>\n",
       "      <th>hopkins</th>\n",
       "    </tr>\n",
       "  </thead>\n",
       "  <tbody>\n",
       "    <tr>\n",
       "      <th>0</th>\n",
       "      <td>10009770</td>\n",
       "      <td>4</td>\n",
       "      <td>0.71</td>\n",
       "    </tr>\n",
       "    <tr>\n",
       "      <th>1</th>\n",
       "      <td>10010617</td>\n",
       "      <td>101</td>\n",
       "      <td>1.00</td>\n",
       "    </tr>\n",
       "    <tr>\n",
       "      <th>2</th>\n",
       "      <td>10027741</td>\n",
       "      <td>73</td>\n",
       "      <td>1.00</td>\n",
       "    </tr>\n",
       "    <tr>\n",
       "      <th>3</th>\n",
       "      <td>10037617</td>\n",
       "      <td>37</td>\n",
       "      <td>1.00</td>\n",
       "    </tr>\n",
       "    <tr>\n",
       "      <th>4</th>\n",
       "      <td>10040445</td>\n",
       "      <td>73</td>\n",
       "      <td>1.00</td>\n",
       "    </tr>\n",
       "    <tr>\n",
       "      <th>...</th>\n",
       "      <td>...</td>\n",
       "      <td>...</td>\n",
       "      <td>...</td>\n",
       "    </tr>\n",
       "    <tr>\n",
       "      <th>58208</th>\n",
       "      <td>9970254</td>\n",
       "      <td>101</td>\n",
       "      <td>1.00</td>\n",
       "    </tr>\n",
       "    <tr>\n",
       "      <th>58209</th>\n",
       "      <td>9970373</td>\n",
       "      <td>50</td>\n",
       "      <td>1.00</td>\n",
       "    </tr>\n",
       "    <tr>\n",
       "      <th>58210</th>\n",
       "      <td>9973032</td>\n",
       "      <td>56</td>\n",
       "      <td>1.00</td>\n",
       "    </tr>\n",
       "    <tr>\n",
       "      <th>58211</th>\n",
       "      <td>9990896</td>\n",
       "      <td>5</td>\n",
       "      <td>0.81</td>\n",
       "    </tr>\n",
       "    <tr>\n",
       "      <th>58212</th>\n",
       "      <td>9998215</td>\n",
       "      <td>73</td>\n",
       "      <td>1.00</td>\n",
       "    </tr>\n",
       "  </tbody>\n",
       "</table>\n",
       "<p>58213 rows × 3 columns</p>\n",
       "</div>"
      ],
      "text/plain": [
       "            ids  img_quantities  hopkins\n",
       "0      10009770               4     0.71\n",
       "1      10010617             101     1.00\n",
       "2      10027741              73     1.00\n",
       "3      10037617              37     1.00\n",
       "4      10040445              73     1.00\n",
       "...         ...             ...      ...\n",
       "58208   9970254             101     1.00\n",
       "58209   9970373              50     1.00\n",
       "58210   9973032              56     1.00\n",
       "58211   9990896               5     0.81\n",
       "58212   9998215              73     1.00\n",
       "\n",
       "[58213 rows x 3 columns]"
      ]
     },
     "execution_count": 15,
     "metadata": {},
     "output_type": "execute_result"
    }
   ],
   "source": [
    "filteredHopkinsD256_dataframe = pd.DataFrame({'ids': indexes, 'img_quantities': img_quantities, 'hopkins': hop})\n",
    "filteredHopkinsD256_dataframe = filteredHopkinsD256_dataframe.reset_index(drop=True)\n",
    "filteredHopkinsD256_dataframe"
   ]
  },
  {
   "cell_type": "code",
   "execution_count": 16,
   "id": "b6d221df",
   "metadata": {},
   "outputs": [
    {
     "data": {
      "text/html": [
       "<div>\n",
       "<style scoped>\n",
       "    .dataframe tbody tr th:only-of-type {\n",
       "        vertical-align: middle;\n",
       "    }\n",
       "\n",
       "    .dataframe tbody tr th {\n",
       "        vertical-align: top;\n",
       "    }\n",
       "\n",
       "    .dataframe thead th {\n",
       "        text-align: right;\n",
       "    }\n",
       "</style>\n",
       "<table border=\"1\" class=\"dataframe\">\n",
       "  <thead>\n",
       "    <tr style=\"text-align: right;\">\n",
       "      <th></th>\n",
       "      <th>ids</th>\n",
       "      <th>img_quantities</th>\n",
       "      <th>hopkins</th>\n",
       "    </tr>\n",
       "  </thead>\n",
       "  <tbody>\n",
       "    <tr>\n",
       "      <th>1</th>\n",
       "      <td>10010617</td>\n",
       "      <td>101</td>\n",
       "      <td>1.0</td>\n",
       "    </tr>\n",
       "    <tr>\n",
       "      <th>2</th>\n",
       "      <td>10027741</td>\n",
       "      <td>73</td>\n",
       "      <td>1.0</td>\n",
       "    </tr>\n",
       "    <tr>\n",
       "      <th>3</th>\n",
       "      <td>10037617</td>\n",
       "      <td>37</td>\n",
       "      <td>1.0</td>\n",
       "    </tr>\n",
       "    <tr>\n",
       "      <th>4</th>\n",
       "      <td>10040445</td>\n",
       "      <td>73</td>\n",
       "      <td>1.0</td>\n",
       "    </tr>\n",
       "    <tr>\n",
       "      <th>5</th>\n",
       "      <td>10041099</td>\n",
       "      <td>29</td>\n",
       "      <td>1.0</td>\n",
       "    </tr>\n",
       "    <tr>\n",
       "      <th>...</th>\n",
       "      <td>...</td>\n",
       "      <td>...</td>\n",
       "      <td>...</td>\n",
       "    </tr>\n",
       "    <tr>\n",
       "      <th>58207</th>\n",
       "      <td>9968008</td>\n",
       "      <td>90</td>\n",
       "      <td>1.0</td>\n",
       "    </tr>\n",
       "    <tr>\n",
       "      <th>58208</th>\n",
       "      <td>9970254</td>\n",
       "      <td>101</td>\n",
       "      <td>1.0</td>\n",
       "    </tr>\n",
       "    <tr>\n",
       "      <th>58209</th>\n",
       "      <td>9970373</td>\n",
       "      <td>50</td>\n",
       "      <td>1.0</td>\n",
       "    </tr>\n",
       "    <tr>\n",
       "      <th>58210</th>\n",
       "      <td>9973032</td>\n",
       "      <td>56</td>\n",
       "      <td>1.0</td>\n",
       "    </tr>\n",
       "    <tr>\n",
       "      <th>58212</th>\n",
       "      <td>9998215</td>\n",
       "      <td>73</td>\n",
       "      <td>1.0</td>\n",
       "    </tr>\n",
       "  </tbody>\n",
       "</table>\n",
       "<p>46397 rows × 3 columns</p>\n",
       "</div>"
      ],
      "text/plain": [
       "            ids  img_quantities  hopkins\n",
       "1      10010617             101      1.0\n",
       "2      10027741              73      1.0\n",
       "3      10037617              37      1.0\n",
       "4      10040445              73      1.0\n",
       "5      10041099              29      1.0\n",
       "...         ...             ...      ...\n",
       "58207   9968008              90      1.0\n",
       "58208   9970254             101      1.0\n",
       "58209   9970373              50      1.0\n",
       "58210   9973032              56      1.0\n",
       "58212   9998215              73      1.0\n",
       "\n",
       "[46397 rows x 3 columns]"
      ]
     },
     "execution_count": 16,
     "metadata": {},
     "output_type": "execute_result"
    }
   ],
   "source": [
    "filteredHopkinsD256_dataframe = filteredHopkinsD256_dataframe[filteredHopkinsD256_dataframe['img_quantities'] >= 10] \n",
    "filteredHopkinsD256_dataframe"
   ]
  },
  {
   "cell_type": "code",
   "execution_count": null,
   "id": "565dfd30",
   "metadata": {},
   "outputs": [],
   "source": []
  },
  {
   "cell_type": "code",
   "execution_count": 17,
   "id": "5423e397",
   "metadata": {},
   "outputs": [],
   "source": [
    "filteredHopkinsD256_dataframe.to_csv('PC2022_128D_embeddings_clusterable_classes.csv')"
   ]
  },
  {
   "cell_type": "code",
   "execution_count": 53,
   "id": "845108c9",
   "metadata": {},
   "outputs": [
    {
     "data": {
      "text/plain": [
       "10010617"
      ]
     },
     "execution_count": 53,
     "metadata": {},
     "output_type": "execute_result"
    }
   ],
   "source": [
    "filteredHopkinsD2_dataframe['ids'][0]"
   ]
  },
  {
   "cell_type": "code",
   "execution_count": 73,
   "id": "f5462c3b",
   "metadata": {},
   "outputs": [
    {
     "data": {
      "text/plain": [
       "31403"
      ]
     },
     "execution_count": 73,
     "metadata": {},
     "output_type": "execute_result"
    }
   ],
   "source": [
    "N_points"
   ]
  },
  {
   "cell_type": "code",
   "execution_count": 77,
   "id": "39e4f827",
   "metadata": {},
   "outputs": [
    {
     "data": {
      "text/plain": [
       "12.333333333333334"
      ]
     },
     "execution_count": 77,
     "metadata": {},
     "output_type": "execute_result"
    }
   ],
   "source": [
    "lenght"
   ]
  },
  {
   "cell_type": "code",
   "execution_count": 39,
   "id": "bbd48b8f",
   "metadata": {},
   "outputs": [
    {
     "name": "stdout",
     "output_type": "stream",
     "text": [
      "151\n",
      "3\n"
     ]
    },
    {
     "data": {
      "text/plain": [
       "Text(0.5, 1.0, 'Frequência de Classes Particionáveis (Hopkins D=2) Vs Qtd. Imagens')"
      ]
     },
     "execution_count": 39,
     "metadata": {},
     "output_type": "execute_result"
    },
    {
     "data": {
      "image/png": "[encoded data removed]",
      "text/plain": [
       "<Figure size 1008x432 with 1 Axes>"
      ]
     },
     "metadata": {
      "needs_background": "light"
     },
     "output_type": "display_data"
    }
   ],
   "source": [
    "mmax = filteredHopkinsD2_dataframe['img_quantities'][np.argmax(filteredHopkinsD2_dataframe['img_quantities'])]\n",
    "print(mmax)\n",
    "mmin = filteredHopkinsD2_dataframe['img_quantities'][np.argmin(filteredHopkinsD2_dataframe['img_quantities'])]\n",
    "print(mmin)\n",
    "\n",
    "N_points = len(filteredHopkinsD2_dataframe['ids'])\n",
    "n_bins = 5\n",
    "lenght = (mmax - mmin)/n_bins\n",
    "fig, axs = plt.subplots(figsize=(14,6))\n",
    "\n",
    "#plt.figure(figsize=(10,6))\n",
    "#0.592653975517827\n",
    "# We can set the number of bins with the *bins* keyword argument.\n",
    "#plt.xticks(np.arange(3, 160, int(lenght)))\n",
    "axs.hist(filteredHopkinsD2_dataframe['img_quantities'], bins=n_bins)\n",
    "plt.xlim(right=160)\n",
    "plt.title('Frequência de Classes Particionáveis (Hopkins D=2) Vs Qtd. Imagens')\n",
    "\n",
    "#xlim(left=1)\n",
    "\n",
    "#axs[1].hist(dist2, bins=n_bins)"
   ]
  },
  {
   "cell_type": "code",
   "execution_count": null,
   "id": "a9a2073c",
   "metadata": {},
   "outputs": [],
   "source": []
  }
 ],
 "metadata": {
  "kernelspec": {
   "display_name": "Python 3 (ipykernel)",
   "language": "python",
   "name": "python3"
  },
  "language_info": {
   "codemirror_mode": {
    "name": "ipython",
    "version": 3
   },
   "file_extension": ".py",
   "mimetype": "text/x-python",
   "name": "python",
   "nbconvert_exporter": "python",
   "pygments_lexer": "ipython3",
   "version": "3.11.5"
  }
 },
 "nbformat": 4,
 "nbformat_minor": 5
}
